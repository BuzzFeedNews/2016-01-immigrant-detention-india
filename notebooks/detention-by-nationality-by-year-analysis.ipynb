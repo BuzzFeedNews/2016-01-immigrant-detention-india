{
 "cells": [
  {
   "cell_type": "markdown",
   "metadata": {},
   "source": [
    "# Detention By Nationality By Year Analysis\n",
    "\n",
    "For details about the analysis below, please [read this page](https://github.com/BuzzFeedNews/2016-01-immigrant-detention-india)."
   ]
  },
  {
   "cell_type": "markdown",
   "metadata": {},
   "source": [
    "## Load the data"
   ]
  },
  {
   "cell_type": "code",
   "execution_count": 1,
   "metadata": {
    "collapsed": false
   },
   "outputs": [],
   "source": [
    "import pandas as pd\n",
    "import sys\n",
    "sys.path.append(\"../utils\")\n",
    "import loaders"
   ]
  },
  {
   "cell_type": "markdown",
   "metadata": {},
   "source": [
    "*Note: loaders is a custom module to handle basic data-loading. It is available [here](https://github.com/BuzzFeedNews/2015-08-immigration/blob/master/utils/loaders.py).*"
   ]
  },
  {
   "cell_type": "code",
   "execution_count": 2,
   "metadata": {
    "collapsed": false
   },
   "outputs": [],
   "source": [
    "first_scheduled_proceeding = pd.read_csv(\"../data/first_scheduled_proceeding.csv\", \n",
    "    parse_dates=[\"ADJ_DATE\"],\n",
    "    dtype={ \"IDNCASE\": str, \"IDNPROCEEDING\": str },\n",
    "    encoding=\"latin-1\")"
   ]
  },
  {
   "cell_type": "markdown",
   "metadata": {},
   "source": [
    "*Note: first-scheduled-proceeding.csv is a pre-processed data file. The code to create that file from tbl_schedule.csv is available [here](../utils/generate-first-scheduled-proceeding.py).*"
   ]
  },
  {
   "cell_type": "code",
   "execution_count": 3,
   "metadata": {
    "collapsed": false
   },
   "outputs": [],
   "source": [
    "nationality_table = loaders.load_file(\"../data/tblLookupNationality.csv\")"
   ]
  },
  {
   "cell_type": "code",
   "execution_count": 4,
   "metadata": {
    "collapsed": false
   },
   "outputs": [],
   "source": [
    "case_date_list = [\n",
    "    \"E_28_DATE\",\n",
    "    \"DATE_OF_ENTRY\",\n",
    "    \"C_BIRTHDATE\",\n",
    "    \"C_RELEASE_DATE\",\n",
    "    \"DATE_DETAINED\",\n",
    "    \"DATE_RELEASED\"\n",
    "]"
   ]
  },
  {
   "cell_type": "code",
   "execution_count": 5,
   "metadata": {
    "collapsed": false
   },
   "outputs": [],
   "source": [
    "_cases = loaders.load_file(\"../data/A_tblCase.csv\",\n",
    "    parse_dates=case_date_list,\n",
    "    dtype={ \"IDNCASE\": str })"
   ]
  },
  {
   "cell_type": "code",
   "execution_count": 6,
   "metadata": {
    "collapsed": false
   },
   "outputs": [],
   "source": [
    "_cases[\"GENDER\"] = _cases[\"GENDER\"].fillna(\"UNK\")"
   ]
  },
  {
   "cell_type": "code",
   "execution_count": 7,
   "metadata": {
    "collapsed": false
   },
   "outputs": [
    {
     "name": "stderr",
     "output_type": "stream",
     "text": [
      "Skipping line 1165848: expected 5 fields, saw 6\n",
      "\n",
      "Skipping line 1433634: expected 5 fields, saw 6\n",
      "\n",
      "Skipping line 2646392: expected 5 fields, saw 6\n",
      "\n",
      "Skipping line 2847501: expected 5 fields, saw 6\n",
      "\n",
      "Skipping line 2947399: expected 5 fields, saw 6\n",
      "\n",
      "Skipping line 3131015: expected 5 fields, saw 6\n",
      "\n"
     ]
    }
   ],
   "source": [
    "_charges = loaders.load_file(\"../data/B_tblProceedCharges.csv\",\n",
    "    dtype={ \"IDNCASE\": str, \"IDNPROCEEDING\": str })"
   ]
  },
  {
   "cell_type": "markdown",
   "metadata": {},
   "source": [
    "*Note: Six rows — of the more than 8 million total rows — in the charges table contain malformed data stemming from extra tab characters, triggering the warning messages above.*"
   ]
  },
  {
   "cell_type": "markdown",
   "metadata": {},
   "source": [
    "## Process the data\n",
    "\n",
    "Join the various tables and prepare them for analysis."
   ]
  },
  {
   "cell_type": "code",
   "execution_count": 8,
   "metadata": {
    "collapsed": false
   },
   "outputs": [],
   "source": [
    "charges_group = _charges.groupby([ \"IDNCASE\", \"IDNPROCEEDING\" ])"
   ]
  },
  {
   "cell_type": "code",
   "execution_count": 9,
   "metadata": {
    "collapsed": false
   },
   "outputs": [],
   "source": [
    "charge_lists = pd.DataFrame({\n",
    "    \"charge_list\": charges_group[\"CHARGE\"].apply(\"|\".join)\n",
    "}).reset_index()"
   ]
  },
  {
   "cell_type": "code",
   "execution_count": 10,
   "metadata": {
    "collapsed": false
   },
   "outputs": [
    {
     "data": {
      "text/html": [
       "<div>\n",
       "<table border=\"1\" class=\"dataframe\">\n",
       "  <thead>\n",
       "    <tr style=\"text-align: right;\">\n",
       "      <th></th>\n",
       "      <th>IDNCASE</th>\n",
       "      <th>IDNPROCEEDING</th>\n",
       "      <th>charge_list</th>\n",
       "    </tr>\n",
       "  </thead>\n",
       "  <tbody>\n",
       "    <tr>\n",
       "      <th>0</th>\n",
       "      <td>2046920</td>\n",
       "      <td>3200048</td>\n",
       "      <td>212a06Ai</td>\n",
       "    </tr>\n",
       "    <tr>\n",
       "      <th>1</th>\n",
       "      <td>2046921</td>\n",
       "      <td>3200049</td>\n",
       "      <td>212a06Ai</td>\n",
       "    </tr>\n",
       "    <tr>\n",
       "      <th>2</th>\n",
       "      <td>2046922</td>\n",
       "      <td>3200050</td>\n",
       "      <td>212a06Ai</td>\n",
       "    </tr>\n",
       "    <tr>\n",
       "      <th>3</th>\n",
       "      <td>2046923</td>\n",
       "      <td>3200051</td>\n",
       "      <td>212a06Ci</td>\n",
       "    </tr>\n",
       "    <tr>\n",
       "      <th>4</th>\n",
       "      <td>2046923</td>\n",
       "      <td>3525150</td>\n",
       "      <td>212a06Ci</td>\n",
       "    </tr>\n",
       "  </tbody>\n",
       "</table>\n",
       "</div>"
      ],
      "text/plain": [
       "   IDNCASE IDNPROCEEDING    charge_list\n",
       "0  2046920       3200048  212a06Ai     \n",
       "1  2046921       3200049  212a06Ai     \n",
       "2  2046922       3200050  212a06Ai     \n",
       "3  2046923       3200051  212a06Ci     \n",
       "4  2046923       3525150       212a06Ci"
      ]
     },
     "execution_count": 10,
     "metadata": {},
     "output_type": "execute_result"
    }
   ],
   "source": [
    "charge_lists.head()"
   ]
  },
  {
   "cell_type": "code",
   "execution_count": 11,
   "metadata": {
    "collapsed": false
   },
   "outputs": [],
   "source": [
    "assert(charge_lists[\"IDNCASE\"].nunique() == 5033293)\n",
    "assert(len(first_scheduled_proceeding) == 5045511)"
   ]
  },
  {
   "cell_type": "markdown",
   "metadata": {},
   "source": [
    "From the numbers above: A small fraction of cases — approximately 0.2% — have a scheduled proceding but no charges."
   ]
  },
  {
   "cell_type": "code",
   "execution_count": 12,
   "metadata": {
    "collapsed": false
   },
   "outputs": [],
   "source": [
    "cases_with_first_proceeding = first_scheduled_proceeding\\\n",
    "    .merge(charge_lists, how=\"left\", on=[ \"IDNCASE\", \"IDNPROCEEDING\" ])\\\n",
    "    .merge(_cases, how=\"left\", on=\"IDNCASE\", suffixes=[\"_schedule\", \"_case\"])"
   ]
  },
  {
   "cell_type": "markdown",
   "metadata": {},
   "source": [
    "Legal representatives file the EOIR-28 form to notify the court of their representation for a given immigrant.\n",
    "\n",
    "`ADJ_DATE` in this table indicates the date of the case's first proceeding."
   ]
  },
  {
   "cell_type": "code",
   "execution_count": 13,
   "metadata": {
    "collapsed": false
   },
   "outputs": [],
   "source": [
    "cases_with_first_proceeding[\"legal_rep_at_first_proceeding\"] = \\\n",
    "    cases_with_first_proceeding[\"E_28_DATE\"] <= cases_with_first_proceeding[\"ADJ_DATE\"]"
   ]
  },
  {
   "cell_type": "markdown",
   "metadata": {},
   "source": [
    "## Select non-criminal removal cases between Jan. 1, 2003 and Jan. 1, 2015"
   ]
  },
  {
   "cell_type": "code",
   "execution_count": 14,
   "metadata": {
    "collapsed": false
   },
   "outputs": [],
   "source": [
    "selected_cases = cases_with_first_proceeding[\n",
    "     # Select cases with first-scheduled-hearing dates in 2003–2014\n",
    "    (cases_with_first_proceeding[\"ADJ_DATE\"] >= \"2003-01-01\") &\n",
    "    (cases_with_first_proceeding[\"ADJ_DATE\"] < \"2015-01-01\") &\n",
    "    # Remove unaccompanied children\n",
    "    (cases_with_first_proceeding[\"CASEPRIORITY_CODE\"] != \"UC\") & \n",
    "    # Keep only \"removal\" cases\n",
    "    (cases_with_first_proceeding[\"CASE_TYPE\"] == \"RMV\")\n",
    "].copy()"
   ]
  },
  {
   "cell_type": "code",
   "execution_count": 15,
   "metadata": {
    "collapsed": true
   },
   "outputs": [],
   "source": [
    "selected_cases[\"has_criminal_charge\"] = (\n",
    "    selected_cases[\"charge_list\"].str.contains(\"237a02\") |\n",
    "    selected_cases[\"charge_list\"].str.contains(\"212a02\")\n",
    ")"
   ]
  },
  {
   "cell_type": "code",
   "execution_count": 16,
   "metadata": {
    "collapsed": false
   },
   "outputs": [],
   "source": [
    "selected_cases[\"detained\"] = selected_cases[\"CUSTODY\"].map({\"N\": 0, \"D\": 1, \"R\": 1})"
   ]
  },
  {
   "cell_type": "code",
   "execution_count": 17,
   "metadata": {
    "collapsed": false
   },
   "outputs": [],
   "source": [
    "non_crim_selected_cases = selected_cases[~selected_cases[\"has_criminal_charge\"]].copy()"
   ]
  },
  {
   "cell_type": "markdown",
   "metadata": {},
   "source": [
    "## Calculate detention rates by nationality by year"
   ]
  },
  {
   "cell_type": "code",
   "execution_count": 18,
   "metadata": {
    "collapsed": false
   },
   "outputs": [],
   "source": [
    "non_crim_selected_cases[\"year\"] = non_crim_selected_cases[\"ADJ_DATE\"].apply(lambda x: x.year)"
   ]
  },
  {
   "cell_type": "code",
   "execution_count": 19,
   "metadata": {
    "collapsed": false
   },
   "outputs": [],
   "source": [
    "non_crim_custody_by_nationality = non_crim_selected_cases.groupby([\"year\", \"NAT\", \"CUSTODY\"])\\\n",
    "    .size()\\\n",
    "    .unstack()\\\n",
    "    .fillna(0)"
   ]
  },
  {
   "cell_type": "code",
   "execution_count": 20,
   "metadata": {
    "collapsed": false
   },
   "outputs": [],
   "source": [
    "non_crim_custody_by_nationality[\"total\"] = non_crim_custody_by_nationality.sum(axis=1)"
   ]
  },
  {
   "cell_type": "code",
   "execution_count": 21,
   "metadata": {
    "collapsed": false
   },
   "outputs": [],
   "source": [
    "non_crim_custody_by_nationality[\"percent_detained\"] = non_crim_custody_by_nationality\\\n",
    "    .apply(lambda x: round(100.0 * (x[\"D\"] + x[\"R\"]) / x[\"total\"], 1), axis=1)"
   ]
  },
  {
   "cell_type": "code",
   "execution_count": 22,
   "metadata": {
    "collapsed": false
   },
   "outputs": [
    {
     "data": {
      "text/html": [
       "<div>\n",
       "<table border=\"1\" class=\"dataframe\">\n",
       "  <thead>\n",
       "    <tr style=\"text-align: right;\">\n",
       "      <th></th>\n",
       "      <th>CUSTODY</th>\n",
       "      <th>D</th>\n",
       "      <th>N</th>\n",
       "      <th>R</th>\n",
       "      <th>total</th>\n",
       "      <th>percent_detained</th>\n",
       "    </tr>\n",
       "    <tr>\n",
       "      <th>year</th>\n",
       "      <th>NAT</th>\n",
       "      <th></th>\n",
       "      <th></th>\n",
       "      <th></th>\n",
       "      <th></th>\n",
       "      <th></th>\n",
       "    </tr>\n",
       "  </thead>\n",
       "  <tbody>\n",
       "    <tr>\n",
       "      <th rowspan=\"5\" valign=\"top\">2014</th>\n",
       "      <th>YE</th>\n",
       "      <td>5</td>\n",
       "      <td>32</td>\n",
       "      <td>7</td>\n",
       "      <td>44</td>\n",
       "      <td>27.3</td>\n",
       "    </tr>\n",
       "    <tr>\n",
       "      <th>YO</th>\n",
       "      <td>0</td>\n",
       "      <td>38</td>\n",
       "      <td>3</td>\n",
       "      <td>41</td>\n",
       "      <td>7.3</td>\n",
       "    </tr>\n",
       "    <tr>\n",
       "      <th>YS</th>\n",
       "      <td>4</td>\n",
       "      <td>19</td>\n",
       "      <td>6</td>\n",
       "      <td>29</td>\n",
       "      <td>34.5</td>\n",
       "    </tr>\n",
       "    <tr>\n",
       "      <th>ZA</th>\n",
       "      <td>7</td>\n",
       "      <td>14</td>\n",
       "      <td>3</td>\n",
       "      <td>24</td>\n",
       "      <td>41.7</td>\n",
       "    </tr>\n",
       "    <tr>\n",
       "      <th>ZI</th>\n",
       "      <td>7</td>\n",
       "      <td>28</td>\n",
       "      <td>5</td>\n",
       "      <td>40</td>\n",
       "      <td>30.0</td>\n",
       "    </tr>\n",
       "  </tbody>\n",
       "</table>\n",
       "</div>"
      ],
      "text/plain": [
       "CUSTODY   D   N  R  total  percent_detained\n",
       "year NAT                                   \n",
       "2014 YE   5  32  7     44              27.3\n",
       "     YO   0  38  3     41               7.3\n",
       "     YS   4  19  6     29              34.5\n",
       "     ZA   7  14  3     24              41.7\n",
       "     ZI   7  28  5     40              30.0"
      ]
     },
     "execution_count": 22,
     "metadata": {},
     "output_type": "execute_result"
    }
   ],
   "source": [
    "non_crim_custody_by_nationality.tail()"
   ]
  },
  {
   "cell_type": "code",
   "execution_count": 23,
   "metadata": {
    "collapsed": false
   },
   "outputs": [
    {
     "data": {
      "text/html": [
       "<div>\n",
       "<table border=\"1\" class=\"dataframe\">\n",
       "  <thead>\n",
       "    <tr style=\"text-align: right;\">\n",
       "      <th>CUSTODY</th>\n",
       "      <th>year</th>\n",
       "      <th>D</th>\n",
       "      <th>N</th>\n",
       "      <th>R</th>\n",
       "      <th>total</th>\n",
       "      <th>percent_detained</th>\n",
       "      <th>NAT_NAME</th>\n",
       "    </tr>\n",
       "  </thead>\n",
       "  <tbody>\n",
       "    <tr>\n",
       "      <th>ZI</th>\n",
       "      <td>2010</td>\n",
       "      <td>15</td>\n",
       "      <td>137</td>\n",
       "      <td>16</td>\n",
       "      <td>168</td>\n",
       "      <td>18.5</td>\n",
       "      <td>ZIMBABWE</td>\n",
       "    </tr>\n",
       "    <tr>\n",
       "      <th>ZI</th>\n",
       "      <td>2011</td>\n",
       "      <td>13</td>\n",
       "      <td>86</td>\n",
       "      <td>7</td>\n",
       "      <td>106</td>\n",
       "      <td>18.9</td>\n",
       "      <td>ZIMBABWE</td>\n",
       "    </tr>\n",
       "    <tr>\n",
       "      <th>ZI</th>\n",
       "      <td>2012</td>\n",
       "      <td>9</td>\n",
       "      <td>78</td>\n",
       "      <td>9</td>\n",
       "      <td>96</td>\n",
       "      <td>18.8</td>\n",
       "      <td>ZIMBABWE</td>\n",
       "    </tr>\n",
       "    <tr>\n",
       "      <th>ZI</th>\n",
       "      <td>2013</td>\n",
       "      <td>7</td>\n",
       "      <td>38</td>\n",
       "      <td>6</td>\n",
       "      <td>51</td>\n",
       "      <td>25.5</td>\n",
       "      <td>ZIMBABWE</td>\n",
       "    </tr>\n",
       "    <tr>\n",
       "      <th>ZI</th>\n",
       "      <td>2014</td>\n",
       "      <td>7</td>\n",
       "      <td>28</td>\n",
       "      <td>5</td>\n",
       "      <td>40</td>\n",
       "      <td>30.0</td>\n",
       "      <td>ZIMBABWE</td>\n",
       "    </tr>\n",
       "  </tbody>\n",
       "</table>\n",
       "</div>"
      ],
      "text/plain": [
       "CUSTODY  year   D    N   R  total  percent_detained  NAT_NAME\n",
       "ZI       2010  15  137  16    168              18.5  ZIMBABWE\n",
       "ZI       2011  13   86   7    106              18.9  ZIMBABWE\n",
       "ZI       2012   9   78   9     96              18.8  ZIMBABWE\n",
       "ZI       2013   7   38   6     51              25.5  ZIMBABWE\n",
       "ZI       2014   7   28   5     40              30.0  ZIMBABWE"
      ]
     },
     "execution_count": 23,
     "metadata": {},
     "output_type": "execute_result"
    }
   ],
   "source": [
    "#Add full country names\n",
    "non_crim_custody_by_nationality_by_year = non_crim_custody_by_nationality.reset_index().set_index(\"NAT\")\\\n",
    "    .join(nationality_table.set_index(\"NAT_CODE\")[[ \"NAT_NAME\" ]])\n",
    "non_crim_custody_by_nationality_by_year.tail()"
   ]
  },
  {
   "cell_type": "code",
   "execution_count": 24,
   "metadata": {
    "collapsed": false
   },
   "outputs": [
    {
     "data": {
      "text/html": [
       "<div>\n",
       "<table border=\"1\" class=\"dataframe\">\n",
       "  <thead>\n",
       "    <tr style=\"text-align: right;\">\n",
       "      <th>CUSTODY</th>\n",
       "      <th>N</th>\n",
       "      <th>D</th>\n",
       "      <th>R</th>\n",
       "      <th>total</th>\n",
       "      <th>percent_detained</th>\n",
       "      <th>year</th>\n",
       "      <th>NAT_NAME</th>\n",
       "    </tr>\n",
       "  </thead>\n",
       "  <tbody>\n",
       "    <tr>\n",
       "      <th>IN</th>\n",
       "      <td>692</td>\n",
       "      <td>147</td>\n",
       "      <td>3341</td>\n",
       "      <td>4180</td>\n",
       "      <td>83.4</td>\n",
       "      <td>2013</td>\n",
       "      <td>INDIA</td>\n",
       "    </tr>\n",
       "    <tr>\n",
       "      <th>MX</th>\n",
       "      <td>14983</td>\n",
       "      <td>60468</td>\n",
       "      <td>8247</td>\n",
       "      <td>83698</td>\n",
       "      <td>82.1</td>\n",
       "      <td>2008</td>\n",
       "      <td>MEXICO</td>\n",
       "    </tr>\n",
       "    <tr>\n",
       "      <th>MX</th>\n",
       "      <td>12898</td>\n",
       "      <td>46162</td>\n",
       "      <td>5954</td>\n",
       "      <td>65014</td>\n",
       "      <td>80.2</td>\n",
       "      <td>2007</td>\n",
       "      <td>MEXICO</td>\n",
       "    </tr>\n",
       "    <tr>\n",
       "      <th>GT</th>\n",
       "      <td>3498</td>\n",
       "      <td>8416</td>\n",
       "      <td>5045</td>\n",
       "      <td>16959</td>\n",
       "      <td>79.4</td>\n",
       "      <td>2011</td>\n",
       "      <td>GUATEMALA</td>\n",
       "    </tr>\n",
       "    <tr>\n",
       "      <th>MX</th>\n",
       "      <td>11924</td>\n",
       "      <td>42267</td>\n",
       "      <td>2259</td>\n",
       "      <td>56450</td>\n",
       "      <td>78.9</td>\n",
       "      <td>2005</td>\n",
       "      <td>MEXICO</td>\n",
       "    </tr>\n",
       "  </tbody>\n",
       "</table>\n",
       "</div>"
      ],
      "text/plain": [
       "CUSTODY      N      D     R  total  percent_detained  year   NAT_NAME\n",
       "IN         692    147  3341   4180              83.4  2013      INDIA\n",
       "MX       14983  60468  8247  83698              82.1  2008     MEXICO\n",
       "MX       12898  46162  5954  65014              80.2  2007     MEXICO\n",
       "GT        3498   8416  5045  16959              79.4  2011  GUATEMALA\n",
       "MX       11924  42267  2259  56450              78.9  2005     MEXICO"
      ]
     },
     "execution_count": 24,
     "metadata": {},
     "output_type": "execute_result"
    }
   ],
   "source": [
    "main_columns = [\"N\", \"D\", \"R\", \"total\", \"percent_detained\", \"year\", \"NAT_NAME\"]\n",
    "\n",
    "large_nationalities = non_crim_custody_by_nationality_by_year[\n",
    "    non_crim_custody_by_nationality_by_year[\"total\"] > 1000\n",
    "].sort_values(\"percent_detained\", ascending=False)[main_columns]\n",
    "\n",
    "large_nationalities.head()"
   ]
  },
  {
   "cell_type": "markdown",
   "metadata": {},
   "source": [
    "## Average Non-Criminal Detention Rate By Year"
   ]
  },
  {
   "cell_type": "code",
   "execution_count": 25,
   "metadata": {
    "collapsed": false
   },
   "outputs": [],
   "source": [
    "non_crim_year_totals = non_crim_selected_cases.groupby([\"year\", \"CUSTODY\"])\\\n",
    "    .size()\\\n",
    "    .unstack()\\\n",
    "    .fillna(0)"
   ]
  },
  {
   "cell_type": "code",
   "execution_count": 26,
   "metadata": {
    "collapsed": true
   },
   "outputs": [],
   "source": [
    "non_crim_year_totals[\"total\"] = non_crim_year_totals.sum(axis=1)"
   ]
  },
  {
   "cell_type": "code",
   "execution_count": 27,
   "metadata": {
    "collapsed": true
   },
   "outputs": [],
   "source": [
    "non_crim_year_totals[\"percent_detained\"] = non_crim_year_totals\\\n",
    "    .apply(lambda x: round(100.0 * (x[\"D\"] + x[\"R\"]) / x[\"total\"], 1), axis=1)"
   ]
  },
  {
   "cell_type": "code",
   "execution_count": 28,
   "metadata": {
    "collapsed": false
   },
   "outputs": [
    {
     "data": {
      "text/html": [
       "<div>\n",
       "<table border=\"1\" class=\"dataframe\">\n",
       "  <thead>\n",
       "    <tr style=\"text-align: right;\">\n",
       "      <th>CUSTODY</th>\n",
       "      <th>D</th>\n",
       "      <th>N</th>\n",
       "      <th>R</th>\n",
       "      <th>total</th>\n",
       "      <th>percent_detained</th>\n",
       "    </tr>\n",
       "    <tr>\n",
       "      <th>year</th>\n",
       "      <th></th>\n",
       "      <th></th>\n",
       "      <th></th>\n",
       "      <th></th>\n",
       "      <th></th>\n",
       "    </tr>\n",
       "  </thead>\n",
       "  <tbody>\n",
       "    <tr>\n",
       "      <th>2009</th>\n",
       "      <td>89500</td>\n",
       "      <td>81982</td>\n",
       "      <td>25761</td>\n",
       "      <td>197243</td>\n",
       "      <td>58.4</td>\n",
       "    </tr>\n",
       "    <tr>\n",
       "      <th>2010</th>\n",
       "      <td>76001</td>\n",
       "      <td>82604</td>\n",
       "      <td>35250</td>\n",
       "      <td>193855</td>\n",
       "      <td>57.4</td>\n",
       "    </tr>\n",
       "    <tr>\n",
       "      <th>2011</th>\n",
       "      <td>78508</td>\n",
       "      <td>72375</td>\n",
       "      <td>47132</td>\n",
       "      <td>198015</td>\n",
       "      <td>63.4</td>\n",
       "    </tr>\n",
       "    <tr>\n",
       "      <th>2012</th>\n",
       "      <td>54683</td>\n",
       "      <td>62371</td>\n",
       "      <td>51562</td>\n",
       "      <td>168616</td>\n",
       "      <td>63.0</td>\n",
       "    </tr>\n",
       "    <tr>\n",
       "      <th>2013</th>\n",
       "      <td>34773</td>\n",
       "      <td>62300</td>\n",
       "      <td>56707</td>\n",
       "      <td>153780</td>\n",
       "      <td>59.5</td>\n",
       "    </tr>\n",
       "    <tr>\n",
       "      <th>2014</th>\n",
       "      <td>33878</td>\n",
       "      <td>74184</td>\n",
       "      <td>63889</td>\n",
       "      <td>171951</td>\n",
       "      <td>56.9</td>\n",
       "    </tr>\n",
       "  </tbody>\n",
       "</table>\n",
       "</div>"
      ],
      "text/plain": [
       "CUSTODY      D      N      R   total  percent_detained\n",
       "year                                                  \n",
       "2009     89500  81982  25761  197243              58.4\n",
       "2010     76001  82604  35250  193855              57.4\n",
       "2011     78508  72375  47132  198015              63.4\n",
       "2012     54683  62371  51562  168616              63.0\n",
       "2013     34773  62300  56707  153780              59.5\n",
       "2014     33878  74184  63889  171951              56.9"
      ]
     },
     "execution_count": 28,
     "metadata": {},
     "output_type": "execute_result"
    }
   ],
   "source": [
    "non_crim_year_totals.ix[2009:2014]"
   ]
  },
  {
   "cell_type": "markdown",
   "metadata": {},
   "source": [
    "## Indian Immigrant Detention Rate By Year"
   ]
  },
  {
   "cell_type": "code",
   "execution_count": 29,
   "metadata": {
    "collapsed": false
   },
   "outputs": [
    {
     "data": {
      "text/html": [
       "<div>\n",
       "<table border=\"1\" class=\"dataframe\">\n",
       "  <thead>\n",
       "    <tr style=\"text-align: right;\">\n",
       "      <th>CUSTODY</th>\n",
       "      <th>NAT_NAME</th>\n",
       "      <th>N</th>\n",
       "      <th>D</th>\n",
       "      <th>R</th>\n",
       "      <th>total</th>\n",
       "      <th>percent_detained</th>\n",
       "    </tr>\n",
       "    <tr>\n",
       "      <th>year</th>\n",
       "      <th></th>\n",
       "      <th></th>\n",
       "      <th></th>\n",
       "      <th></th>\n",
       "      <th></th>\n",
       "      <th></th>\n",
       "    </tr>\n",
       "  </thead>\n",
       "  <tbody>\n",
       "    <tr>\n",
       "      <th>2009</th>\n",
       "      <td>INDIA</td>\n",
       "      <td>1666</td>\n",
       "      <td>131</td>\n",
       "      <td>265</td>\n",
       "      <td>2062</td>\n",
       "      <td>19.2</td>\n",
       "    </tr>\n",
       "    <tr>\n",
       "      <th>2010</th>\n",
       "      <td>INDIA</td>\n",
       "      <td>1556</td>\n",
       "      <td>157</td>\n",
       "      <td>1526</td>\n",
       "      <td>3239</td>\n",
       "      <td>52.0</td>\n",
       "    </tr>\n",
       "    <tr>\n",
       "      <th>2011</th>\n",
       "      <td>INDIA</td>\n",
       "      <td>1456</td>\n",
       "      <td>217</td>\n",
       "      <td>2160</td>\n",
       "      <td>3833</td>\n",
       "      <td>62.0</td>\n",
       "    </tr>\n",
       "    <tr>\n",
       "      <th>2012</th>\n",
       "      <td>INDIA</td>\n",
       "      <td>933</td>\n",
       "      <td>98</td>\n",
       "      <td>717</td>\n",
       "      <td>1748</td>\n",
       "      <td>46.6</td>\n",
       "    </tr>\n",
       "    <tr>\n",
       "      <th>2013</th>\n",
       "      <td>INDIA</td>\n",
       "      <td>692</td>\n",
       "      <td>147</td>\n",
       "      <td>3341</td>\n",
       "      <td>4180</td>\n",
       "      <td>83.4</td>\n",
       "    </tr>\n",
       "    <tr>\n",
       "      <th>2014</th>\n",
       "      <td>INDIA</td>\n",
       "      <td>648</td>\n",
       "      <td>151</td>\n",
       "      <td>1698</td>\n",
       "      <td>2497</td>\n",
       "      <td>74.0</td>\n",
       "    </tr>\n",
       "  </tbody>\n",
       "</table>\n",
       "</div>"
      ],
      "text/plain": [
       "CUSTODY NAT_NAME     N    D     R  total  percent_detained\n",
       "year                                                      \n",
       "2009       INDIA  1666  131   265   2062              19.2\n",
       "2010       INDIA  1556  157  1526   3239              52.0\n",
       "2011       INDIA  1456  217  2160   3833              62.0\n",
       "2012       INDIA   933   98   717   1748              46.6\n",
       "2013       INDIA   692  147  3341   4180              83.4\n",
       "2014       INDIA   648  151  1698   2497              74.0"
      ]
     },
     "execution_count": 29,
     "metadata": {},
     "output_type": "execute_result"
    }
   ],
   "source": [
    "large_nationalities[\n",
    "    (large_nationalities[\"NAT_NAME\"] == \"INDIA\")\n",
    "][[\"NAT_NAME\", \"year\", \"N\", \"D\", \"R\", \"total\", \"percent_detained\"]]\\\n",
    "    .sort_values(\"year\")\\\n",
    "    .set_index(\"year\").ix[2009:2014]"
   ]
  },
  {
   "cell_type": "markdown",
   "metadata": {
    "collapsed": true
   },
   "source": [
    "----\n",
    "\n",
    "----\n",
    "\n",
    "----"
   ]
  }
 ],
 "metadata": {
  "kernelspec": {
   "display_name": "Python 2",
   "language": "python",
   "name": "python2"
  },
  "language_info": {
   "codemirror_mode": {
    "name": "ipython",
    "version": 2
   },
   "file_extension": ".py",
   "mimetype": "text/x-python",
   "name": "python",
   "nbconvert_exporter": "python",
   "pygments_lexer": "ipython2",
   "version": "2.7.9"
  }
 },
 "nbformat": 4,
 "nbformat_minor": 0
}
